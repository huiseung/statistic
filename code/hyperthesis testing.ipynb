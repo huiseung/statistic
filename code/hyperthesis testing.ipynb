{
 "cells": [
  {
   "cell_type": "code",
   "execution_count": 162,
   "id": "de4872ae-fff0-4694-9fb2-16da2558255c",
   "metadata": {},
   "outputs": [],
   "source": [
    "import numpy as np\n",
    "import scipy.stats as stats"
   ]
  },
  {
   "cell_type": "code",
   "execution_count": 163,
   "id": "9f3f67d1-bcd5-444d-a430-739bd52b61c8",
   "metadata": {},
   "outputs": [
    {
     "data": {
      "text/plain": [
       "1.6448536269514722"
      ]
     },
     "execution_count": 163,
     "metadata": {},
     "output_type": "execute_result"
    }
   ],
   "source": [
    "stats.norm.ppf(0.95)"
   ]
  },
  {
   "cell_type": "code",
   "execution_count": 161,
   "id": "123f1ef5-e22b-4672-8583-7615d3ece775",
   "metadata": {},
   "outputs": [],
   "source": [
    "def print_test_result(test_title, statistic_value, p_value, significance_level, accept_message, reject_message):\n",
    "    print(test_title)\n",
    "    print(\"statistic_value= %.3f p_value= %.3f\" % (statistic_value, p_value))\n",
    "    if p_value > significance_level:\n",
    "        print(\"Fail to reject null hyperthesis: \"+accept_message)\n",
    "    elif p_value <= significance_level:\n",
    "        print(\"Reject null hyperthesis: \"+reject_message)"
   ]
  },
  {
   "cell_type": "markdown",
   "id": "6ee84b5c-e0c7-4764-b8bd-69de7ad51fdd",
   "metadata": {},
   "source": [
    "# Student's t-test\n",
    "### Assumptions\n",
    "- each sampling is iid, same variance, normal distribution\n",
    "\n",
    "### Interpertation\n",
    "- H0: $\\mu_1$ = $\\mu_2$\n",
    "- H1: $\\mu_1$ $\\neq$ $\\mu_2$"
   ]
  },
  {
   "cell_type": "code",
   "execution_count": 64,
   "id": "3caa4e1d-c362-44d6-b2fb-b23611fbcbd0",
   "metadata": {},
   "outputs": [
    {
     "name": "stdout",
     "output_type": "stream",
     "text": [
      "student's t-test\n",
      "statistic_value= 0.626 p_value= 0.539\n",
      "probably same distribution\n"
     ]
    }
   ],
   "source": [
    "n = 10\n",
    "sigma = 1\n",
    "significance_level = 0.05\n",
    "data1 = np.random.randn(n)*sigma\n",
    "data2 = np.random.randn(n)*sigma\n",
    "stat, p = stats.ttest_ind(data1, data2, alternative=\"two-sided\") #alternative={\"two-sided\", \"less\", \"greater\"}\n",
    "print_test_result(\"student's t-test\", stat, p, significance_level, \"probably same distribution\", \"probably different distribution\")"
   ]
  },
  {
   "cell_type": "markdown",
   "id": "3459a93a-405b-4b15-afc9-4d81496f5ea2",
   "metadata": {},
   "source": [
    "# ANOVA(One Way)\n",
    "### Assumptions\n",
    "- each sampling is iid, same variance, normal distribution\n",
    "\n",
    "### Interpertation\n",
    "- H0: $\\mu_1$ = $\\mu_2$ ... = $\\mu_s$\n",
    "- H1: one or more of the means of the samples ar unequal"
   ]
  },
  {
   "cell_type": "code",
   "execution_count": 26,
   "id": "8405d7b6-fbf3-4a37-9da4-8847d3460175",
   "metadata": {},
   "outputs": [
    {
     "name": "stdout",
     "output_type": "stream",
     "text": [
      "one way ANOVA\n",
      "statistic_value= 0.351 p_value= 0.704\n",
      "probably same distribution\n"
     ]
    }
   ],
   "source": [
    "n = 50\n",
    "sigma = 1\n",
    "significance_level = 0.05\n",
    "data1 = np.random.randn(n)*sigma\n",
    "data2 = np.random.randn(n)*sigma\n",
    "data3 = np.random.randn(n)*sigma\n",
    "stat, p = stats.f_oneway(data1, data2, data3)\n",
    "print_test_result(\"one way ANOVA\", stat, p, significance_level, \"probably same distribution\", \"probably different distribution\")"
   ]
  },
  {
   "cell_type": "code",
   "execution_count": 27,
   "id": "350d8582-8564-4075-990e-f7ed5fbe412a",
   "metadata": {},
   "outputs": [
    {
     "name": "stdout",
     "output_type": "stream",
     "text": [
      "one way ANOVA\n",
      "statistic_value= 15.498 p_value= 0.000\n",
      "probably different distribution\n"
     ]
    }
   ],
   "source": [
    "n = 50\n",
    "sigma = 1\n",
    "significance_level = 0.05\n",
    "data1 = np.random.randn(n)*sigma\n",
    "data2 = np.random.randn(n)*sigma+1\n",
    "data3 = np.random.randn(n)*sigma\n",
    "stat, p = stats.f_oneway(data1, data2, data3)\n",
    "print_test_result(\"one way ANOVA\", stat, p, significance_level, \"probably same distribution\", \"probably different distribution\")"
   ]
  },
  {
   "cell_type": "markdown",
   "id": "697d8b1f-2d2f-431f-8d2a-8ee01daa12f7",
   "metadata": {},
   "source": [
    "# Sharpiro Test(Normality Test)\n",
    "### Assumptions\n",
    "- each sampling is iid\n",
    "\n",
    "### Interpretation\n",
    "- H0: the sample has a normal distribution\n",
    "- H1: the sample dosen't have a normal distribution"
   ]
  },
  {
   "cell_type": "code",
   "execution_count": 40,
   "id": "54aefb67-a2e4-46e7-874a-6f2bf65e9180",
   "metadata": {},
   "outputs": [
    {
     "name": "stdout",
     "output_type": "stream",
     "text": [
      "Sharpiro test\n",
      "statistic_value= 0.979 p_value= 0.808\n",
      "probably normal distribution\n"
     ]
    }
   ],
   "source": [
    "n = 30\n",
    "mean = 3\n",
    "sigma = 1\n",
    "significance_level = 0.05\n",
    "data = np.random.randn(n)*sigma+mean\n",
    "stat, p = stats.shapiro(data)\n",
    "print_test_result(\"Sharpiro test\", stat, p, significance_level, \"probably normal distribution\", \"probably not normal distribution\")"
   ]
  },
  {
   "cell_type": "code",
   "execution_count": 41,
   "id": "03ca6dd4-56c4-4afe-91c0-1862af101900",
   "metadata": {},
   "outputs": [
    {
     "name": "stdout",
     "output_type": "stream",
     "text": [
      "Sharpiro test\n",
      "statistic_value= 0.943 p_value= 0.108\n",
      "probably normal distribution\n"
     ]
    }
   ],
   "source": [
    "n = 30\n",
    "significance_level = 0.05\n",
    "data = np.random.rand(n)\n",
    "stat, p = stats.shapiro(data)\n",
    "print_test_result(\"Sharpiro test\", stat, p, significance_level, \"probably normal distribution\", \"probably not normal distribution\")"
   ]
  },
  {
   "cell_type": "markdown",
   "id": "731f7b0c-5238-4227-b384-22cc669357bd",
   "metadata": {},
   "source": [
    "# Kolmogorov-Smirnov Test(Continuous Distribution Goodness of Fit test)\n",
    "### Interpretation\n",
    "- H0: the sample comes from specified distribution\n",
    "- H1: the sample dosen;t from specified distribution"
   ]
  },
  {
   "cell_type": "code",
   "execution_count": 148,
   "id": "c804920c-8d6a-4012-a6cd-c0713668fdc4",
   "metadata": {
    "tags": []
   },
   "outputs": [
    {
     "name": "stdout",
     "output_type": "stream",
     "text": [
      "Kolmogorov-Smirnov Test\n",
      "statistic_value= 0.027 p_value= 0.464\n",
      "probably the data comes from the specified distribution\n"
     ]
    }
   ],
   "source": [
    "n = 1000\n",
    "mu = 4\n",
    "sigma = 1\n",
    "significance_level = 0.05\n",
    "data = np.random.randn(n)*sigma+mu\n",
    "stat, p = stats.ks_1samp(data, stats.norm.cdf, args=(mu, sigma)) # alternative = {\"two-sided\", \"less\", \"greater\"}\n",
    "print_test_result(\"Kolmogorov-Smirnov Test\", stat, p, significance_level, \"probably the data comes from the specified distribution\", \"at least one value does not match the specified distribution\")"
   ]
  },
  {
   "cell_type": "code",
   "execution_count": 157,
   "id": "12bfd8d8-4fee-4e47-a39f-6a3c45441a3b",
   "metadata": {},
   "outputs": [
    {
     "name": "stdout",
     "output_type": "stream",
     "text": [
      "Kolmogorov-Smirnov Test\n",
      "statistic_value= 0.036 p_value= 0.139\n",
      "probably the data comes from the specified distribution\n"
     ]
    }
   ],
   "source": [
    "n = 1000\n",
    "mu = 4\n",
    "significance_level = 0.05\n",
    "data = stats.expon.rvs(loc=0, scale=1/mu, size=n)\n",
    "stat, p = stats.ks_1samp(data, stats.expon.cdf, args=(0, 1/mu)) # alternative = {\"two-sided\", \"less\", \"greater\"}\n",
    "print_test_result(\"Kolmogorov-Smirnov Test\", stat, p, significance_level, \"probably the data comes from the specified distribution\", \"at least one value does not match the specified distribution\")"
   ]
  },
  {
   "cell_type": "code",
   "execution_count": 138,
   "id": "e43b2d0d-cd6c-4224-b02e-499e302d1acf",
   "metadata": {},
   "outputs": [
    {
     "name": "stdout",
     "output_type": "stream",
     "text": [
      "Kolmogorov-Smirnov Test\n",
      "statistic_value= 0.080 p_value= 0.908\n",
      "same distribution\n"
     ]
    }
   ],
   "source": [
    "data1 = np.random.exponential(scale=1/mu, size=n)\n",
    "data2 = np.random.exponential(scale=1/mu, size=n)\n",
    "stat, p = stats.ks_2samp(data1, data2)\n",
    "print_test_result(\"Kolmogorov-Smirnov Test\", stat, p, significance_level, \"same distribution\", \"different distribution\")"
   ]
  },
  {
   "cell_type": "code",
   "execution_count": null,
   "id": "87ba55e8-0ab5-4467-8ffe-1455ec9884d5",
   "metadata": {},
   "outputs": [],
   "source": []
  }
 ],
 "metadata": {
  "kernelspec": {
   "display_name": "Python 3",
   "language": "python",
   "name": "python3"
  },
  "language_info": {
   "codemirror_mode": {
    "name": "ipython",
    "version": 3
   },
   "file_extension": ".py",
   "mimetype": "text/x-python",
   "name": "python",
   "nbconvert_exporter": "python",
   "pygments_lexer": "ipython3",
   "version": "3.9.7"
  }
 },
 "nbformat": 4,
 "nbformat_minor": 5
}
